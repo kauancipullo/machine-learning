{
 "cells": [
  {
   "cell_type": "markdown",
   "id": "7950d9d3-9d01-4233-aee1-77d434efb477",
   "metadata": {},
   "source": [
    "# Projeto Airbnb Rio - Ferramenta de Previsão de Preço de Imóvel para pessoas comuns "
   ]
  },
  {
   "cell_type": "markdown",
   "id": "415a32b3-20c2-4b6a-8f7b-b53598bfd573",
   "metadata": {},
   "source": [
    "### Contexto\n",
    "\n",
    "No Airbnb, qualquer pessoa que possua um quarto ou imóvel de qualquer tipo (apartamento, casa, chalé, pousada, etc.) pode disponibilizá-lo para aluguel por diária. \n",
    "\n",
    "O processo começa com a criação de um perfil de host (anfitrião), seguido pelo anúncio do imóvel. Nesse anúncio, o host deve descrever as características do imóvel de maneira detalhada, facilitando a escolha dos locadores/viajantes e tornando o anúncio mais atrativo.\n",
    "\n",
    "Há dezenas de opções de personalização no anúncio, como:\n",
    "- Quantidade mínima de diárias.\n",
    "- Preço por diária.\n",
    "- Quantidade de quartos.\n",
    "- Regras de cancelamento.\n",
    "- Taxas extras para hóspedes adicionais.\n",
    "- Exigência de verificação de identidade do locador, entre outros.\n",
    "\n",
    "### Nosso Objetivo\n",
    "\n",
    "O objetivo deste projeto é construir um modelo de previsão de preço para ajudar:\n",
    "\n",
    "1. **Hosts**: Fornecer uma estimativa de quanto cobrar pela diária de um imóvel, considerando suas características.\n",
    "2. **Locadores (viajantes)**: Ajudar a identificar se um imóvel está com um preço atrativo (abaixo da média para imóveis similares) ou não.\n",
    "\n",
    "### O que Temos Disponível, Inspirações e Créditos\n",
    "\n",
    "As bases de dados utilizadas neste projeto foram retiradas do site Kaggle:  \n",
    "🔗 [Airbnb Rio de Janeiro - Dataset](https://www.kaggle.com/allanbruno/airbnb-rio-de-janeiro)  \n",
    "\n",
    "Os dados também estão disponíveis para download abaixo da aula. Note que, ao acessar diretamente o Kaggle, você pode encontrar resultados diferentes devido a atualizações nas bases de dados.  \n",
    "\n",
    "Referência:  \n",
    "- Solução desenvolvida pelo usuário Allan Bruno no Kaggle:  \n",
    "🔗 [Helping Regular People Price Listings on Airbnb](https://www.kaggle.com/allanbruno/helping-regular-people-price-listings-on-airbnb)\n",
    "\n",
    "Embora existam semelhanças entre a solução apresentada aqui e a do Allan Bruno, também exploraremos diferenças significativas no processo de construção do projeto.\n",
    "\n",
    "### Informações sobre as Bases de Dados\n",
    "\n",
    "- Os dados incluem os preços dos imóveis e suas respectivas características.\n",
    "- Os preços estão em reais (R$).\n",
    "- As bases abrangem o período de abril de 2018 a maio de 2020, exceto junho de 2018, que não possui dados.\n",
    "\n",
    "### Expectativas Iniciais\n",
    "\n",
    "Alguns fatores que podem impactar o preço dos imóveis incluem:\n",
    "\n",
    "1. **Sazonalidade**: Certos períodos, como dezembro, tendem a ter preços mais altos no Rio de Janeiro.  \n",
    "2. **Localização**: A localização do imóvel é crucial no Rio de Janeiro, onde segurança, beleza natural e proximidade a pontos turísticos variam bastante.  \n",
    "3. **Adicionais/Comodidades**: Imóveis com comodidades diferenciadas podem se destacar, especialmente considerando que muitos prédios e casas no Rio são antigos.\n",
    "\n",
    "Nosso objetivo é analisar o impacto desses fatores e identificar outros aspectos menos intuitivos que podem ser decisivos na precificação.\n",
    "\n",
    "Vamos explorar juntos!\n"
   ]
  }
 ],
 "metadata": {
  "kernelspec": {
   "display_name": "Python 3 (ipykernel)",
   "language": "python",
   "name": "python3"
  },
  "language_info": {
   "codemirror_mode": {
    "name": "ipython",
    "version": 3
   },
   "file_extension": ".py",
   "mimetype": "text/x-python",
   "name": "python",
   "nbconvert_exporter": "python",
   "pygments_lexer": "ipython3",
   "version": "3.12.1"
  }
 },
 "nbformat": 4,
 "nbformat_minor": 5
}
